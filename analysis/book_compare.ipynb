{
 "cells": [
  {
   "cell_type": "code",
   "execution_count": 770,
   "metadata": {},
   "outputs": [],
   "source": [
    "import requests\n",
    "import pandas as pd\n",
    "import numpy as np\n",
    "from coinbase.rest import RESTClient\n",
    "import datetime\n",
    "import json\n",
    "import time\n",
    "import os\n",
    "import plotly.express as px\n",
    "\n"
   ]
  },
  {
   "cell_type": "code",
   "execution_count": 780,
   "metadata": {},
   "outputs": [
    {
     "data": {
      "text/plain": [
       "34"
      ]
     },
     "execution_count": 780,
     "metadata": {},
     "output_type": "execute_result"
    }
   ],
   "source": [
    "fdump = 'test.csv'\n",
    "import csv\n",
    "file =  open(fdump, mode=\"w\", newline=\"\")\n",
    "writer = csv.writer(file)\n",
    "writer.writerow([\"time\", \"cb bid\", \"cb ask\", \"kk bid\", \"kk ask\"])"
   ]
  },
  {
   "cell_type": "code",
   "execution_count": 772,
   "metadata": {},
   "outputs": [],
   "source": [
    "\n",
    "prod = \"MATIC-USD\"\n",
    "\n",
    "api_key = os.environ.get(\"COINBASE_API_TOKEN\")\n",
    "api_secret = os.environ.get(\"COINBASE_PRIVATE_TOKEN\")\n",
    "\n",
    "client = RESTClient(api_key=api_key, api_secret=api_secret)\n",
    "\n",
    "prodkk=''.join(char for char in prod if char.isalnum())\n",
    "url = \"https://api.kraken.com/0/public/Depth?pair={}\".format(prodkk)\n",
    "\n",
    "payload = {}\n",
    "headers = {\n",
    "  'Accept': 'application/json'\n",
    "}\n",
    "\n"
   ]
  },
  {
   "cell_type": "code",
   "execution_count": 773,
   "metadata": {},
   "outputs": [],
   "source": [
    "response = requests.request(\"GET\", url, headers=headers, data=payload)\n",
    "ts = time.time()\n",
    "cb_pb = client.get_public_product_book(prod, 100)['pricebook']"
   ]
  },
  {
   "cell_type": "code",
   "execution_count": 774,
   "metadata": {},
   "outputs": [],
   "source": [
    "kk_m = json.loads(response.text)\n",
    "cb_bids = cb_pb['bids']\n",
    "cb_asks = cb_pb['asks']\n",
    "\n",
    "for ii in range(len(cb_bids)):\n",
    "    cb_bids[ii] = cb_bids[ii].__dict__\n",
    "for ii in range(len(cb_asks)):\n",
    "    cb_asks[ii] = cb_asks[ii].__dict__"
   ]
  },
  {
   "cell_type": "code",
   "execution_count": 775,
   "metadata": {},
   "outputs": [],
   "source": [
    "\n",
    "cb_bids = pd.DataFrame.from_dict(cb_bids)\n",
    "cb_asks = pd.DataFrame.from_dict(cb_asks)\n",
    "\n",
    "cb_bids['price'] = cb_bids['price'].astype(float)\n",
    "cb_bids['size'] = cb_bids['size'].astype(float)\n",
    "\n",
    "cb_asks['price'] = cb_asks['price'].astype(float)\n",
    "cb_asks['size'] = cb_asks['size'].astype(float)"
   ]
  },
  {
   "cell_type": "code",
   "execution_count": 776,
   "metadata": {},
   "outputs": [],
   "source": [
    "kk_bids = pd.DataFrame(kk_m['result'][prodkk]['bids'])\n",
    "kk_bids = kk_bids.drop(2, axis=1)\n",
    "kk_bids.columns=['price', 'size']\n",
    "kk_bids['price'] = kk_bids['price'].astype(float)\n",
    "kk_bids['size'] = kk_bids['size'].astype(float)\n",
    "\n",
    "kk_asks = pd.DataFrame(kk_m['result'][prodkk]['asks'])\n",
    "kk_asks = kk_asks.drop(2, axis=1)\n",
    "kk_asks.columns=['price', 'size']\n",
    "kk_asks['price'] = kk_asks['price'].astype(float)\n",
    "kk_asks['size'] = kk_asks['size'].astype(float)"
   ]
  },
  {
   "cell_type": "code",
   "execution_count": 777,
   "metadata": {},
   "outputs": [],
   "source": [
    "from scipy.stats  import hmean\n",
    "def weighted_sum(df):\n",
    "    return hmean(df['price'], weights=df['size'])\n"
   ]
  },
  {
   "cell_type": "code",
   "execution_count": 778,
   "metadata": {},
   "outputs": [
    {
     "name": "stdout",
     "output_type": "stream",
     "text": [
      "cb bids\t 0.46532353737249704\n",
      "cb asks\t 0.4995531703291106\n",
      "\n",
      "kk bids\t 0.45829896831647693\n",
      "kk asks\t 0.48897141688890583\n",
      "\n",
      "cb\t 0.4824383538508038\n",
      "kk\t 0.4736351926026914\n"
     ]
    }
   ],
   "source": [
    "print(\"cb bids\\t\", weighted_sum(cb_bids))\n",
    "print(\"cb asks\\t\", weighted_sum(cb_asks))\n",
    "\n",
    "\n",
    "print()\n",
    "print(\"kk bids\\t\", weighted_sum(kk_bids))\n",
    "print(\"kk asks\\t\", weighted_sum(kk_asks))\n",
    "\n",
    "\n",
    "print()\n",
    "print(\"cb\\t\", (weighted_sum(cb_bids) + weighted_sum(cb_asks))/2)\n",
    "print(\"kk\\t\", (weighted_sum(kk_bids) + weighted_sum(kk_asks))/2)"
   ]
  },
  {
   "cell_type": "code",
   "execution_count": 779,
   "metadata": {},
   "outputs": [
    {
     "data": {
      "text/plain": [
       "47"
      ]
     },
     "execution_count": 779,
     "metadata": {},
     "output_type": "execute_result"
    }
   ],
   "source": [
    "\n",
    "writer.writerow([\n",
    "    np.max(cb_bids['price']),\n",
    "    np.min(cb_asks['price']),\n",
    "    ts,\n",
    "    np.max(kk_bids['price']),\n",
    "    np.min(kk_asks['price']),\n",
    "])\n"
   ]
  }
 ],
 "metadata": {
  "kernelspec": {
   "display_name": "Python 3",
   "language": "python",
   "name": "python3"
  },
  "language_info": {
   "codemirror_mode": {
    "name": "ipython",
    "version": 3
   },
   "file_extension": ".py",
   "mimetype": "text/x-python",
   "name": "python",
   "nbconvert_exporter": "python",
   "pygments_lexer": "ipython3",
   "version": "3.10.12"
  }
 },
 "nbformat": 4,
 "nbformat_minor": 2
}
