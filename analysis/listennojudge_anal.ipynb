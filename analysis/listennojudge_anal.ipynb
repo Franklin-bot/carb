{
 "cells": [
  {
   "cell_type": "code",
   "execution_count": 62,
   "metadata": {},
   "outputs": [],
   "source": [
    "import pandas as pd\n",
    "import numpy as np\n",
    "from scipy import signal\n",
    "from plotly import express as plx\n",
    "import json\n",
    "import csv"
   ]
  },
  {
   "cell_type": "code",
   "execution_count": 3,
   "metadata": {},
   "outputs": [],
   "source": [
    "# !. ../secrets.sh && cd '../build' && ./scout_exe"
   ]
  },
  {
   "cell_type": "code",
   "execution_count": 63,
   "metadata": {},
   "outputs": [],
   "source": [
    "COINBASE_TICKERS = '../data/coinbase_tickers.txt'\n",
    "COINBASE_BOOKS = '../data/coinbase_books.txt'\n",
    "\n",
    "KRAKEN_TICKERS = '../data/kraken_tickers.txt'\n",
    "KRAKEN_BOOKS = '../data/kraken_books.txt'\n",
    "\n",
    "\n",
    "DEPTH = 100\n",
    "SCALE = int(1e8)"
   ]
  },
  {
   "cell_type": "markdown",
   "metadata": {},
   "source": [
    "Explore the lag within the books as they update much faster than tickers do"
   ]
  },
  {
   "cell_type": "code",
   "execution_count": 64,
   "metadata": {},
   "outputs": [
    {
     "name": "stdout",
     "output_type": "stream",
     "text": [
      "size of cb_bids 76630\n",
      "size of cb_asks 88000\n",
      "size of kk_bids 99656\n",
      "size of kk_asks 93367\n"
     ]
    }
   ],
   "source": [
    "# coinbase\n",
    "\n",
    "cb_book = pd.read_csv(COINBASE_BOOKS, header=None)\n",
    "cb_book.columns = ['ticker', 'timestamp', 'type', 'price', 'quantity']\n",
    "cb_bids = cb_book[cb_book.type == 'bid'].drop('type',axis=1)\n",
    "cb_asks = cb_book[cb_book.type == 'offer'].drop('type',axis=1)\n",
    "\n",
    "# kraken\n",
    "\n",
    "kk_book = pd.read_csv(KRAKEN_BOOKS, header=None)\n",
    "kk_book.columns = ['ticker', 'timestamp', 'type', 'price', 'quantity']\n",
    "kk_book = kk_book[kk_book['timestamp'] != 0]\n",
    "kk_bids = kk_book[kk_book.type == 'bid'].drop('type',axis=1)\n",
    "kk_asks = kk_book[kk_book.type == 'ask'].drop('type',axis=1)\n",
    "\n",
    "\n",
    "print(\"size of cb_bids\", len(cb_bids))\n",
    "print(\"size of cb_asks\", len(cb_asks))\n",
    "print(\"size of kk_bids\", len(kk_bids))\n",
    "print(\"size of kk_asks\", len(kk_asks))\n",
    "\n",
    "signal_ind = {'cb_bids': 0, 'cb_asks': 1, 'kk_bids': 2, 'kk_asks': 3}\n",
    "books = [cb_bids, cb_asks, kk_bids, kk_asks]"
   ]
  },
  {
   "cell_type": "code",
   "execution_count": 65,
   "metadata": {},
   "outputs": [],
   "source": [
    "## use to test code so it doesn't take forver to run\n",
    "# for sig,ii in signal_ind.items():\n",
    "#     books[ii] = books[ii].iloc[0:1000,:]\n",
    "# books"
   ]
  },
  {
   "cell_type": "code",
   "execution_count": 66,
   "metadata": {},
   "outputs": [
    {
     "ename": "KeyboardInterrupt",
     "evalue": "",
     "output_type": "error",
     "traceback": [
      "\u001b[0;31m---------------------------------------------------------------------------\u001b[0m",
      "\u001b[0;31mKeyboardInterrupt\u001b[0m                         Traceback (most recent call last)",
      "Cell \u001b[0;32mIn[66], line 35\u001b[0m\n\u001b[1;32m     28\u001b[0m             wavg_signal[ii]\u001b[38;5;241m.\u001b[39mloc[\u001b[38;5;28mlen\u001b[39m(wavg_signal[ii])] \u001b[38;5;241m=\u001b[39m [ts, \n\u001b[1;32m     29\u001b[0m                                                          (minbook[\u001b[38;5;124m'\u001b[39m\u001b[38;5;124mprice\u001b[39m\u001b[38;5;124m'\u001b[39m] \u001b[38;5;241m*\u001b[39m minbook[\u001b[38;5;124m'\u001b[39m\u001b[38;5;124mquantity\u001b[39m\u001b[38;5;124m'\u001b[39m])\u001b[38;5;241m.\u001b[39msum() \u001b[38;5;241m/\u001b[39m minbook[\u001b[38;5;124m'\u001b[39m\u001b[38;5;124mquantity\u001b[39m\u001b[38;5;124m'\u001b[39m]\u001b[38;5;241m.\u001b[39msum(), \n\u001b[1;32m     30\u001b[0m                                                          minbook[\u001b[38;5;124m'\u001b[39m\u001b[38;5;124mquantity\u001b[39m\u001b[38;5;124m'\u001b[39m]\u001b[38;5;241m.\u001b[39msum()]\n\u001b[1;32m     31\u001b[0m             best_signal[ii]\u001b[38;5;241m.\u001b[39mloc[\u001b[38;5;28mlen\u001b[39m(best_signal[ii])] \u001b[38;5;241m=\u001b[39m [ts, curbook[\u001b[38;5;124m'\u001b[39m\u001b[38;5;124mprice\u001b[39m\u001b[38;5;124m'\u001b[39m]\u001b[38;5;241m.\u001b[39miloc[\u001b[38;5;241m0\u001b[39m], curbook[\u001b[38;5;124m'\u001b[39m\u001b[38;5;124mquantity\u001b[39m\u001b[38;5;124m'\u001b[39m]\u001b[38;5;241m.\u001b[39miloc[\u001b[38;5;241m0\u001b[39m]]\n\u001b[1;32m     32\u001b[0m             price_signal[ii]\u001b[38;5;241m.\u001b[39mloc[\u001b[38;5;28mlen\u001b[39m(price_signal[ii])] \u001b[38;5;241m=\u001b[39m [ts, \n\u001b[1;32m     33\u001b[0m                                                            np\u001b[38;5;241m.\u001b[39mstd(minbook[\u001b[38;5;124m'\u001b[39m\u001b[38;5;124mprice\u001b[39m\u001b[38;5;124m'\u001b[39m]),\n\u001b[1;32m     34\u001b[0m                                                            minbook[\u001b[38;5;124m'\u001b[39m\u001b[38;5;124mprice\u001b[39m\u001b[38;5;124m'\u001b[39m]\u001b[38;5;241m.\u001b[39miloc[\u001b[38;5;28mint\u001b[39m(\u001b[38;5;28mlen\u001b[39m(minbook[\u001b[38;5;124m'\u001b[39m\u001b[38;5;124mprice\u001b[39m\u001b[38;5;124m'\u001b[39m])\u001b[38;5;241m/\u001b[39m\u001b[38;5;241m2\u001b[39m)],\n\u001b[0;32m---> 35\u001b[0m                                                            np\u001b[38;5;241m.\u001b[39mabs(\u001b[43mnp\u001b[49m\u001b[38;5;241;43m.\u001b[39;49m\u001b[43mmin\u001b[49m\u001b[43m(\u001b[49m\u001b[43mminbook\u001b[49m\u001b[43m[\u001b[49m\u001b[38;5;124;43m'\u001b[39;49m\u001b[38;5;124;43mprice\u001b[39;49m\u001b[38;5;124;43m'\u001b[39;49m\u001b[43m]\u001b[49m\u001b[43m)\u001b[49m \u001b[38;5;241m-\u001b[39m np\u001b[38;5;241m.\u001b[39mmax(minbook[\u001b[38;5;124m'\u001b[39m\u001b[38;5;124mprice\u001b[39m\u001b[38;5;124m'\u001b[39m]))]\n\u001b[1;32m     38\u001b[0m     wavg_signal[ii] \u001b[38;5;241m=\u001b[39m wavg_signal[ii][wavg_signal[ii][\u001b[38;5;124m'\u001b[39m\u001b[38;5;124mprice\u001b[39m\u001b[38;5;124m'\u001b[39m] \u001b[38;5;241m>\u001b[39m \u001b[38;5;241m0\u001b[39m]\n\u001b[1;32m     39\u001b[0m \u001b[38;5;66;03m# best_signal\u001b[39;00m\n\u001b[1;32m     40\u001b[0m \u001b[38;5;66;03m# wavg_signal\u001b[39;00m\n\u001b[1;32m     41\u001b[0m \u001b[38;5;66;03m# price_signal\u001b[39;00m\n",
      "File \u001b[0;32m~/.local/lib/python3.10/site-packages/numpy/core/fromnumeric.py:2953\u001b[0m, in \u001b[0;36mmin\u001b[0;34m(a, axis, out, keepdims, initial, where)\u001b[0m\n\u001b[1;32m   2836\u001b[0m \u001b[38;5;129m@array_function_dispatch\u001b[39m(_min_dispatcher)\n\u001b[1;32m   2837\u001b[0m \u001b[38;5;28;01mdef\u001b[39;00m \u001b[38;5;21mmin\u001b[39m(a, axis\u001b[38;5;241m=\u001b[39m\u001b[38;5;28;01mNone\u001b[39;00m, out\u001b[38;5;241m=\u001b[39m\u001b[38;5;28;01mNone\u001b[39;00m, keepdims\u001b[38;5;241m=\u001b[39mnp\u001b[38;5;241m.\u001b[39m_NoValue, initial\u001b[38;5;241m=\u001b[39mnp\u001b[38;5;241m.\u001b[39m_NoValue,\n\u001b[1;32m   2838\u001b[0m         where\u001b[38;5;241m=\u001b[39mnp\u001b[38;5;241m.\u001b[39m_NoValue):\n\u001b[1;32m   2839\u001b[0m \u001b[38;5;250m    \u001b[39m\u001b[38;5;124;03m\"\"\"\u001b[39;00m\n\u001b[1;32m   2840\u001b[0m \u001b[38;5;124;03m    Return the minimum of an array or minimum along an axis.\u001b[39;00m\n\u001b[1;32m   2841\u001b[0m \n\u001b[0;32m   (...)\u001b[0m\n\u001b[1;32m   2951\u001b[0m \u001b[38;5;124;03m    6\u001b[39;00m\n\u001b[1;32m   2952\u001b[0m \u001b[38;5;124;03m    \"\"\"\u001b[39;00m\n\u001b[0;32m-> 2953\u001b[0m     \u001b[38;5;28;01mreturn\u001b[39;00m \u001b[43m_wrapreduction\u001b[49m\u001b[43m(\u001b[49m\u001b[43ma\u001b[49m\u001b[43m,\u001b[49m\u001b[43m \u001b[49m\u001b[43mnp\u001b[49m\u001b[38;5;241;43m.\u001b[39;49m\u001b[43mminimum\u001b[49m\u001b[43m,\u001b[49m\u001b[43m \u001b[49m\u001b[38;5;124;43m'\u001b[39;49m\u001b[38;5;124;43mmin\u001b[39;49m\u001b[38;5;124;43m'\u001b[39;49m\u001b[43m,\u001b[49m\u001b[43m \u001b[49m\u001b[43maxis\u001b[49m\u001b[43m,\u001b[49m\u001b[43m \u001b[49m\u001b[38;5;28;43;01mNone\u001b[39;49;00m\u001b[43m,\u001b[49m\u001b[43m \u001b[49m\u001b[43mout\u001b[49m\u001b[43m,\u001b[49m\n\u001b[1;32m   2954\u001b[0m \u001b[43m                          \u001b[49m\u001b[43mkeepdims\u001b[49m\u001b[38;5;241;43m=\u001b[39;49m\u001b[43mkeepdims\u001b[49m\u001b[43m,\u001b[49m\u001b[43m \u001b[49m\u001b[43minitial\u001b[49m\u001b[38;5;241;43m=\u001b[39;49m\u001b[43minitial\u001b[49m\u001b[43m,\u001b[49m\u001b[43m \u001b[49m\u001b[43mwhere\u001b[49m\u001b[38;5;241;43m=\u001b[39;49m\u001b[43mwhere\u001b[49m\u001b[43m)\u001b[49m\n",
      "File \u001b[0;32m~/.local/lib/python3.10/site-packages/numpy/core/fromnumeric.py:86\u001b[0m, in \u001b[0;36m_wrapreduction\u001b[0;34m(obj, ufunc, method, axis, dtype, out, **kwargs)\u001b[0m\n\u001b[1;32m     84\u001b[0m             \u001b[38;5;28;01mreturn\u001b[39;00m reduction(axis\u001b[38;5;241m=\u001b[39maxis, dtype\u001b[38;5;241m=\u001b[39mdtype, out\u001b[38;5;241m=\u001b[39mout, \u001b[38;5;241m*\u001b[39m\u001b[38;5;241m*\u001b[39mpasskwargs)\n\u001b[1;32m     85\u001b[0m         \u001b[38;5;28;01melse\u001b[39;00m:\n\u001b[0;32m---> 86\u001b[0m             \u001b[38;5;28;01mreturn\u001b[39;00m \u001b[43mreduction\u001b[49m\u001b[43m(\u001b[49m\u001b[43maxis\u001b[49m\u001b[38;5;241;43m=\u001b[39;49m\u001b[43maxis\u001b[49m\u001b[43m,\u001b[49m\u001b[43m \u001b[49m\u001b[43mout\u001b[49m\u001b[38;5;241;43m=\u001b[39;49m\u001b[43mout\u001b[49m\u001b[43m,\u001b[49m\u001b[43m \u001b[49m\u001b[38;5;241;43m*\u001b[39;49m\u001b[38;5;241;43m*\u001b[39;49m\u001b[43mpasskwargs\u001b[49m\u001b[43m)\u001b[49m\n\u001b[1;32m     88\u001b[0m \u001b[38;5;28;01mreturn\u001b[39;00m ufunc\u001b[38;5;241m.\u001b[39mreduce(obj, axis, dtype, out, \u001b[38;5;241m*\u001b[39m\u001b[38;5;241m*\u001b[39mpasskwargs)\n",
      "File \u001b[0;32m~/.local/lib/python3.10/site-packages/pandas/core/series.py:6507\u001b[0m, in \u001b[0;36mSeries.min\u001b[0;34m(self, axis, skipna, numeric_only, **kwargs)\u001b[0m\n\u001b[1;32m   6499\u001b[0m \u001b[38;5;129m@doc\u001b[39m(make_doc(\u001b[38;5;124m\"\u001b[39m\u001b[38;5;124mmin\u001b[39m\u001b[38;5;124m\"\u001b[39m, ndim\u001b[38;5;241m=\u001b[39m\u001b[38;5;241m1\u001b[39m))\n\u001b[1;32m   6500\u001b[0m \u001b[38;5;28;01mdef\u001b[39;00m \u001b[38;5;21mmin\u001b[39m(\n\u001b[1;32m   6501\u001b[0m     \u001b[38;5;28mself\u001b[39m,\n\u001b[0;32m   (...)\u001b[0m\n\u001b[1;32m   6505\u001b[0m     \u001b[38;5;241m*\u001b[39m\u001b[38;5;241m*\u001b[39mkwargs,\n\u001b[1;32m   6506\u001b[0m ):\n\u001b[0;32m-> 6507\u001b[0m     \u001b[38;5;28;01mreturn\u001b[39;00m \u001b[43mNDFrame\u001b[49m\u001b[38;5;241;43m.\u001b[39;49m\u001b[43mmin\u001b[49m\u001b[43m(\u001b[49m\u001b[38;5;28;43mself\u001b[39;49m\u001b[43m,\u001b[49m\u001b[43m \u001b[49m\u001b[43maxis\u001b[49m\u001b[43m,\u001b[49m\u001b[43m \u001b[49m\u001b[43mskipna\u001b[49m\u001b[43m,\u001b[49m\u001b[43m \u001b[49m\u001b[43mnumeric_only\u001b[49m\u001b[43m,\u001b[49m\u001b[43m \u001b[49m\u001b[38;5;241;43m*\u001b[39;49m\u001b[38;5;241;43m*\u001b[39;49m\u001b[43mkwargs\u001b[49m\u001b[43m)\u001b[49m\n",
      "File \u001b[0;32m~/.local/lib/python3.10/site-packages/pandas/core/generic.py:12388\u001b[0m, in \u001b[0;36mNDFrame.min\u001b[0;34m(self, axis, skipna, numeric_only, **kwargs)\u001b[0m\n\u001b[1;32m  12381\u001b[0m \u001b[38;5;28;01mdef\u001b[39;00m \u001b[38;5;21mmin\u001b[39m(\n\u001b[1;32m  12382\u001b[0m     \u001b[38;5;28mself\u001b[39m,\n\u001b[1;32m  12383\u001b[0m     axis: Axis \u001b[38;5;241m|\u001b[39m \u001b[38;5;28;01mNone\u001b[39;00m \u001b[38;5;241m=\u001b[39m \u001b[38;5;241m0\u001b[39m,\n\u001b[0;32m   (...)\u001b[0m\n\u001b[1;32m  12386\u001b[0m     \u001b[38;5;241m*\u001b[39m\u001b[38;5;241m*\u001b[39mkwargs,\n\u001b[1;32m  12387\u001b[0m ):\n\u001b[0;32m> 12388\u001b[0m     \u001b[38;5;28;01mreturn\u001b[39;00m \u001b[38;5;28;43mself\u001b[39;49m\u001b[38;5;241;43m.\u001b[39;49m\u001b[43m_stat_function\u001b[49m\u001b[43m(\u001b[49m\n\u001b[1;32m  12389\u001b[0m \u001b[43m        \u001b[49m\u001b[38;5;124;43m\"\u001b[39;49m\u001b[38;5;124;43mmin\u001b[39;49m\u001b[38;5;124;43m\"\u001b[39;49m\u001b[43m,\u001b[49m\n\u001b[1;32m  12390\u001b[0m \u001b[43m        \u001b[49m\u001b[43mnanops\u001b[49m\u001b[38;5;241;43m.\u001b[39;49m\u001b[43mnanmin\u001b[49m\u001b[43m,\u001b[49m\n\u001b[1;32m  12391\u001b[0m \u001b[43m        \u001b[49m\u001b[43maxis\u001b[49m\u001b[43m,\u001b[49m\n\u001b[1;32m  12392\u001b[0m \u001b[43m        \u001b[49m\u001b[43mskipna\u001b[49m\u001b[43m,\u001b[49m\n\u001b[1;32m  12393\u001b[0m \u001b[43m        \u001b[49m\u001b[43mnumeric_only\u001b[49m\u001b[43m,\u001b[49m\n\u001b[1;32m  12394\u001b[0m \u001b[43m        \u001b[49m\u001b[38;5;241;43m*\u001b[39;49m\u001b[38;5;241;43m*\u001b[39;49m\u001b[43mkwargs\u001b[49m\u001b[43m,\u001b[49m\n\u001b[1;32m  12395\u001b[0m \u001b[43m    \u001b[49m\u001b[43m)\u001b[49m\n",
      "File \u001b[0;32m~/.local/lib/python3.10/site-packages/pandas/core/generic.py:12377\u001b[0m, in \u001b[0;36mNDFrame._stat_function\u001b[0;34m(self, name, func, axis, skipna, numeric_only, **kwargs)\u001b[0m\n\u001b[1;32m  12373\u001b[0m nv\u001b[38;5;241m.\u001b[39mvalidate_func(name, (), kwargs)\n\u001b[1;32m  12375\u001b[0m validate_bool_kwarg(skipna, \u001b[38;5;124m\"\u001b[39m\u001b[38;5;124mskipna\u001b[39m\u001b[38;5;124m\"\u001b[39m, none_allowed\u001b[38;5;241m=\u001b[39m\u001b[38;5;28;01mFalse\u001b[39;00m)\n\u001b[0;32m> 12377\u001b[0m \u001b[38;5;28;01mreturn\u001b[39;00m \u001b[38;5;28;43mself\u001b[39;49m\u001b[38;5;241;43m.\u001b[39;49m\u001b[43m_reduce\u001b[49m\u001b[43m(\u001b[49m\n\u001b[1;32m  12378\u001b[0m \u001b[43m    \u001b[49m\u001b[43mfunc\u001b[49m\u001b[43m,\u001b[49m\u001b[43m \u001b[49m\u001b[43mname\u001b[49m\u001b[38;5;241;43m=\u001b[39;49m\u001b[43mname\u001b[49m\u001b[43m,\u001b[49m\u001b[43m \u001b[49m\u001b[43maxis\u001b[49m\u001b[38;5;241;43m=\u001b[39;49m\u001b[43maxis\u001b[49m\u001b[43m,\u001b[49m\u001b[43m \u001b[49m\u001b[43mskipna\u001b[49m\u001b[38;5;241;43m=\u001b[39;49m\u001b[43mskipna\u001b[49m\u001b[43m,\u001b[49m\u001b[43m \u001b[49m\u001b[43mnumeric_only\u001b[49m\u001b[38;5;241;43m=\u001b[39;49m\u001b[43mnumeric_only\u001b[49m\n\u001b[1;32m  12379\u001b[0m \u001b[43m\u001b[49m\u001b[43m)\u001b[49m\n",
      "File \u001b[0;32m~/.local/lib/python3.10/site-packages/pandas/core/series.py:6457\u001b[0m, in \u001b[0;36mSeries._reduce\u001b[0;34m(self, op, name, axis, skipna, numeric_only, filter_type, **kwds)\u001b[0m\n\u001b[1;32m   6452\u001b[0m     \u001b[38;5;66;03m# GH#47500 - change to TypeError to match other methods\u001b[39;00m\n\u001b[1;32m   6453\u001b[0m     \u001b[38;5;28;01mraise\u001b[39;00m \u001b[38;5;167;01mTypeError\u001b[39;00m(\n\u001b[1;32m   6454\u001b[0m         \u001b[38;5;124mf\u001b[39m\u001b[38;5;124m\"\u001b[39m\u001b[38;5;124mSeries.\u001b[39m\u001b[38;5;132;01m{\u001b[39;00mname\u001b[38;5;132;01m}\u001b[39;00m\u001b[38;5;124m does not allow \u001b[39m\u001b[38;5;132;01m{\u001b[39;00mkwd_name\u001b[38;5;132;01m}\u001b[39;00m\u001b[38;5;124m=\u001b[39m\u001b[38;5;132;01m{\u001b[39;00mnumeric_only\u001b[38;5;132;01m}\u001b[39;00m\u001b[38;5;124m \u001b[39m\u001b[38;5;124m\"\u001b[39m\n\u001b[1;32m   6455\u001b[0m         \u001b[38;5;124m\"\u001b[39m\u001b[38;5;124mwith non-numeric dtypes.\u001b[39m\u001b[38;5;124m\"\u001b[39m\n\u001b[1;32m   6456\u001b[0m     )\n\u001b[0;32m-> 6457\u001b[0m \u001b[38;5;28;01mreturn\u001b[39;00m \u001b[43mop\u001b[49m\u001b[43m(\u001b[49m\u001b[43mdelegate\u001b[49m\u001b[43m,\u001b[49m\u001b[43m \u001b[49m\u001b[43mskipna\u001b[49m\u001b[38;5;241;43m=\u001b[39;49m\u001b[43mskipna\u001b[49m\u001b[43m,\u001b[49m\u001b[43m \u001b[49m\u001b[38;5;241;43m*\u001b[39;49m\u001b[38;5;241;43m*\u001b[39;49m\u001b[43mkwds\u001b[49m\u001b[43m)\u001b[49m\n",
      "File \u001b[0;32m~/.local/lib/python3.10/site-packages/pandas/core/nanops.py:111\u001b[0m, in \u001b[0;36mbottleneck_switch.__call__.<locals>.f\u001b[0;34m(values, axis, skipna, **kwds)\u001b[0m\n\u001b[1;32m    108\u001b[0m \u001b[38;5;28;01mexcept\u001b[39;00m (\u001b[38;5;167;01mAttributeError\u001b[39;00m, \u001b[38;5;167;01mNameError\u001b[39;00m):  \u001b[38;5;66;03m# pragma: no cover\u001b[39;00m\n\u001b[1;32m    109\u001b[0m     bn_func \u001b[38;5;241m=\u001b[39m \u001b[38;5;28;01mNone\u001b[39;00m\n\u001b[0;32m--> 111\u001b[0m \u001b[38;5;129m@functools\u001b[39m\u001b[38;5;241m.\u001b[39mwraps(alt)\n\u001b[1;32m    112\u001b[0m \u001b[38;5;28;01mdef\u001b[39;00m \u001b[38;5;21mf\u001b[39m(\n\u001b[1;32m    113\u001b[0m     values: np\u001b[38;5;241m.\u001b[39mndarray,\n\u001b[1;32m    114\u001b[0m     \u001b[38;5;241m*\u001b[39m,\n\u001b[1;32m    115\u001b[0m     axis: AxisInt \u001b[38;5;241m|\u001b[39m \u001b[38;5;28;01mNone\u001b[39;00m \u001b[38;5;241m=\u001b[39m \u001b[38;5;28;01mNone\u001b[39;00m,\n\u001b[1;32m    116\u001b[0m     skipna: \u001b[38;5;28mbool\u001b[39m \u001b[38;5;241m=\u001b[39m \u001b[38;5;28;01mTrue\u001b[39;00m,\n\u001b[1;32m    117\u001b[0m     \u001b[38;5;241m*\u001b[39m\u001b[38;5;241m*\u001b[39mkwds,\n\u001b[1;32m    118\u001b[0m ):\n\u001b[1;32m    119\u001b[0m     \u001b[38;5;28;01mif\u001b[39;00m \u001b[38;5;28mlen\u001b[39m(\u001b[38;5;28mself\u001b[39m\u001b[38;5;241m.\u001b[39mkwargs) \u001b[38;5;241m>\u001b[39m \u001b[38;5;241m0\u001b[39m:\n\u001b[1;32m    120\u001b[0m         \u001b[38;5;28;01mfor\u001b[39;00m k, v \u001b[38;5;129;01min\u001b[39;00m \u001b[38;5;28mself\u001b[39m\u001b[38;5;241m.\u001b[39mkwargs\u001b[38;5;241m.\u001b[39mitems():\n",
      "\u001b[0;31mKeyboardInterrupt\u001b[0m: "
     ]
    }
   ],
   "source": [
    "best_signal = [pd.DataFrame(columns=['timestamp', 'price', 'quantity']) for x in signal_ind.keys()]\n",
    "wavg_signal = [pd.DataFrame(columns=['timestamp', 'price', 'total_volume']) for x in signal_ind.keys()]\n",
    "price_signal = [pd.DataFrame(columns=['timestamp', 'std', 'median', 'spread']) for x in signal_ind.keys()]\n",
    "\n",
    "for sig, ii in signal_ind.items():\n",
    "    is_bid = ii % 2 == 0\n",
    "    allts = np.sort(books[ii]['timestamp'].unique())\n",
    "    firstts = allts[0]\n",
    "    at_firstts = books[ii]['timestamp'] == firstts\n",
    "\n",
    "    curbook = books[ii][at_firstts].copy()\n",
    "    # complete_book = pd.DataFrame()\n",
    "    for ts in allts:\n",
    "        at_ts = books[ii]['timestamp'] == ts\n",
    "        sig_at_ts = books[ii][at_ts]\n",
    "\n",
    "        merged = pd.merge(sig_at_ts[['price', 'quantity']], curbook, on='price', how='left', suffixes=('_old', ''))\n",
    "        merged['quantity']=merged['quantity'].fillna(merged['quantity_old'])\n",
    "        curbook = merged.drop('quantity_old', axis=1)\n",
    "        curbook['timestamp'] = ts\n",
    "        curbook = curbook[curbook['quantity'] != 0]\n",
    "        curbook = curbook.sort_values('price', ascending=(not is_bid))\n",
    "        \n",
    "        # complete_book = pd.concat([complete_book,curbook.iloc[:DEPTH]])\n",
    "\n",
    "        if(not curbook['price'].empty):\n",
    "            minbook = curbook.iloc[0:DEPTH, :]\n",
    "            wavg_signal[ii].loc[len(wavg_signal[ii])] = [ts, \n",
    "                                                         (minbook['price'] * minbook['quantity']).sum() / minbook['quantity'].sum(), \n",
    "                                                         minbook['quantity'].sum()]\n",
    "            best_signal[ii].loc[len(best_signal[ii])] = [ts, curbook['price'].iloc[0], curbook['quantity'].iloc[0]]\n",
    "            price_signal[ii].loc[len(price_signal[ii])] = [ts, \n",
    "                                                           np.std(minbook['price']),\n",
    "                                                           minbook['price'].iloc[int(len(minbook['price'])/2)],\n",
    "                                                           np.abs(np.min(minbook['price']) - np.max(minbook['price']))]\n",
    "\n",
    "\n",
    "    wavg_signal[ii] = wavg_signal[ii][wavg_signal[ii]['price'] > 0]\n",
    "# best_signal\n",
    "# wavg_signal\n",
    "# price_signal"
   ]
  },
  {
   "cell_type": "code",
   "execution_count": 51,
   "metadata": {},
   "outputs": [],
   "source": [
    "def ffill_df(dfs, sigkeys):\n",
    "    ffilled_dfs = []\n",
    "    for sig,df in zip(sigkeys,dfs):\n",
    "        df.index = pd.to_datetime(df['timestamp'], unit='ms')\n",
    "        df = df.drop(['timestamp'], axis=1)\n",
    "        df.index.name = 'date'\n",
    "        df = df.resample('1ms').ffill() \n",
    "        ffilled_dfs.append(df)\n",
    "\n",
    "\n",
    "    i = 0\n",
    "    ffilled = ffilled_dfs[i].rename(columns=lambda col: col + \"_\" + sigkeys[i] if col != \"date\" else col)\n",
    "    i += 1\n",
    "    while i < len(sigkeys):\n",
    "        current_df = ffilled_dfs[i].rename(columns=lambda col: col + \"_\" + sigkeys[i] if col != \"date\" else col)\n",
    "        ffilled = pd.merge(\n",
    "            ffilled,\n",
    "            current_df,\n",
    "            on='date',\n",
    "            how='inner'\n",
    "        )\n",
    "        i += 1\n",
    "\n",
    "    ffilled['timestamp'] = ffilled.index.view('int64') / 10**9\n",
    "    ffilled['timestamp'] = ffilled['timestamp'] - np.min(ffilled['timestamp'])\n",
    "    return ffilled\n",
    "\n",
    "\n",
    "best_signal_ffilled = ffill_df(best_signal, list(signal_ind.keys()))\n",
    "wavg_signal_ffilled = ffill_df(wavg_signal, list(signal_ind.keys()))\n",
    "price_signal_ffilled = ffill_df(price_signal, list(signal_ind.keys()))\n",
    "\n",
    "best_signal_ffilled.to_csv('best_signal_ffilled.csv')\n",
    "wavg_signal_ffilled.to_csv('wavg_signal_ffilled.csv')\n",
    "price_signal_ffilled.to_csv('price_signal_ffilled.csv')"
   ]
  },
  {
   "cell_type": "code",
   "execution_count": null,
   "metadata": {},
   "outputs": [],
   "source": [
    "best_signal_ffilled = pd.read_csv('best_signal_ffilled.csv')\n",
    "wavg_signal_ffilled = pd.read_csv('wavg_signal_ffilled.csv')\n",
    "price_signal_ffilled = pd.read_csv('price_signal_ffilled.csv')"
   ]
  },
  {
   "cell_type": "code",
   "execution_count": 39,
   "metadata": {},
   "outputs": [
    {
     "data": {
      "text/html": [
       "<div>\n",
       "<style scoped>\n",
       "    .dataframe tbody tr th:only-of-type {\n",
       "        vertical-align: middle;\n",
       "    }\n",
       "\n",
       "    .dataframe tbody tr th {\n",
       "        vertical-align: top;\n",
       "    }\n",
       "\n",
       "    .dataframe thead th {\n",
       "        text-align: right;\n",
       "    }\n",
       "</style>\n",
       "<table border=\"1\" class=\"dataframe\">\n",
       "  <thead>\n",
       "    <tr style=\"text-align: right;\">\n",
       "      <th></th>\n",
       "      <th>price_cb_bids</th>\n",
       "      <th>quantity_cb_bids</th>\n",
       "      <th>price_cb_asks</th>\n",
       "      <th>quantity_cb_asks</th>\n",
       "      <th>price_kk_bids</th>\n",
       "      <th>quantity_kk_bids</th>\n",
       "      <th>price_kk_asks</th>\n",
       "      <th>quantity_kk_asks</th>\n",
       "      <th>timestamp</th>\n",
       "    </tr>\n",
       "    <tr>\n",
       "      <th>date</th>\n",
       "      <th></th>\n",
       "      <th></th>\n",
       "      <th></th>\n",
       "      <th></th>\n",
       "      <th></th>\n",
       "      <th></th>\n",
       "      <th></th>\n",
       "      <th></th>\n",
       "      <th></th>\n",
       "    </tr>\n",
       "  </thead>\n",
       "  <tbody>\n",
       "  </tbody>\n",
       "</table>\n",
       "</div>"
      ],
      "text/plain": [
       "Empty DataFrame\n",
       "Columns: [price_cb_bids, quantity_cb_bids, price_cb_asks, quantity_cb_asks, price_kk_bids, quantity_kk_bids, price_kk_asks, quantity_kk_asks, timestamp]\n",
       "Index: []"
      ]
     },
     "execution_count": 39,
     "metadata": {},
     "output_type": "execute_result"
    }
   ],
   "source": [
    "# TODO: indicators\n",
    "\n",
    "# best-ask to best-bid price spread\n",
    "# ask-bid imbalance (ask_vol - bid_vol) / (ask_vol + bid_vol)\n",
    "\n",
    "## for MA, do for both best (best_signal_ffilled) and weighted avg (wavg_signal_ffileed)\n",
    "# MA (3 ms)\n",
    "# MA (10 ms)\n",
    "# MA (100 ms)\n",
    "# MA (1000 ms)\n",
    "# EMA (alpha = 0.01)\n",
    "# EMA (alpha = 0.05)\n",
    "# EMA (alpha = 0.10)\n",
    "# EMA (alpha = 0.33)\n",
    "# EMA (alpha = 0.67)\n",
    "# EMA (alpha = 0.90)\n",
    "\n",
    "# guassian filter\n",
    "# kalman filter\n",
    "\n",
    "## also I have a few ideas for slope interpolation of weighted avg to patch in gaps in noisy best_price, but we will ignore for now"
   ]
  },
  {
   "cell_type": "code",
   "execution_count": null,
   "metadata": {},
   "outputs": [],
   "source": [
    "# next, code up logistic regression to tell us if we should trade or not\n",
    "\n",
    "# X(T) = statistically segnificant signals at T timestep(forward filled)\n",
    "## X(T) is statsitically segniciant at T if X(T) > MEAN + Z*STD  \n",
    "## where MEAN & STD come from X(T-1), X(T-2), ... X(T-N)\n",
    "\n",
    "# Y = if the best ask at T+(LAG) < the best bid in integral of (T+(LAG), T+(LAG)+(HOLDTIME)]\n",
    "\n",
    "# then optimize HOLDTIME and Z & N with the objective function\n",
    "# OBJ = 0\n",
    "# WE_TRADE = Y(T) >= 0.5\n",
    "# if(WE_TRADE): \n",
    "#   check if ask price @ T+LAG > bid price T1 @ T+LAG to T+LAG+HOLDTIME:\n",
    "#       if so, (OBJ += (ASK_PRICE(T+LAG) - BID_PRICE(T+LAG+T1))\n",
    "#       if not, (OBJ += ASK_PRICE(T+LAG) - BID_PRICE(T+LAG+T1))\n",
    "\n",
    "\n"
   ]
  },
  {
   "cell_type": "code",
   "execution_count": 1,
   "metadata": {},
   "outputs": [
    {
     "ename": "NameError",
     "evalue": "name 'best_signal_ffilled' is not defined",
     "output_type": "error",
     "traceback": [
      "\u001b[0;31m---------------------------------------------------------------------------\u001b[0m",
      "\u001b[0;31mNameError\u001b[0m                                 Traceback (most recent call last)",
      "Cell \u001b[0;32mIn[1], line 2\u001b[0m\n\u001b[1;32m      1\u001b[0m \u001b[38;5;28;01mfrom\u001b[39;00m \u001b[38;5;21;01mmatplotlib\u001b[39;00m \u001b[38;5;28;01mimport\u001b[39;00m pyplot \u001b[38;5;28;01mas\u001b[39;00m plt\n\u001b[0;32m----> 2\u001b[0m plt\u001b[38;5;241m.\u001b[39mplot(\u001b[43mbest_signal_ffilled\u001b[49m[\u001b[38;5;124m'\u001b[39m\u001b[38;5;124mprice_cb_asks\u001b[39m\u001b[38;5;124m'\u001b[39m])\n\u001b[1;32m      3\u001b[0m plt\u001b[38;5;241m.\u001b[39mplot(best_signal_ffilled[\u001b[38;5;124m'\u001b[39m\u001b[38;5;124mprice_cb_bids\u001b[39m\u001b[38;5;124m'\u001b[39m])\n\u001b[1;32m      4\u001b[0m plt\u001b[38;5;241m.\u001b[39mylim(\u001b[38;5;241m0\u001b[39m,\u001b[38;5;241m1\u001b[39m)\n",
      "\u001b[0;31mNameError\u001b[0m: name 'best_signal_ffilled' is not defined"
     ]
    }
   ],
   "source": [
    "from matplotlib import pyplot as plt\n",
    "plt.plot(best_signal_ffilled['price_cb_asks'])\n",
    "plt.plot(best_signal_ffilled['price_cb_bids'])\n",
    "plt.ylim(0,1)"
   ]
  },
  {
   "cell_type": "code",
   "execution_count": null,
   "metadata": {},
   "outputs": [],
   "source": [
    "# plot ask lag\n",
    "import plotly.graph_objects as go\n",
    "fig = go.Figure()\n",
    "fig.add_trace(go.Scatter(x=best_signal_ffilled['timestamp'], y=best_signal_ffilled['price_' + \"cb\" + \"_asks\"]/SCALE, mode='lines', name='Coinbase'))\n",
    "fig.add_trace(go.Scatter(x=best_signal_ffilled['timestamp'], y=best_signal_ffilled['price_' + \"kk\" + \"_asks\"]/SCALE, mode='lines', name='Kraken'))\n",
    "fig.show()"
   ]
  },
  {
   "cell_type": "code",
   "execution_count": null,
   "metadata": {},
   "outputs": [],
   "source": [
    "# plot bids\n",
    "import plotly.graph_objects as go\n",
    "fig = go.Figure()\n",
    "fig.add_trace(go.Scatter(x=best_signal_ffilled['timestamp'], y=best_signal_ffilled['price_' + \"cb\" + \"_bids\"]/SCALE, mode='lines', name='Coinbase'))\n",
    "fig.add_trace(go.Scatter(x=best_signal_ffilled['timestamp'], y=best_signal_ffilled['price_' + \"kk\" + \"_bids\"]/SCALE, mode='lines', name='Kraken'))\n",
    "fig.show()"
   ]
  },
  {
   "cell_type": "code",
   "execution_count": null,
   "metadata": {},
   "outputs": [],
   "source": [
    "\n",
    "import plotly.graph_objects as go\n",
    "fig = go.Figure()\n",
    "fig.add_trace(go.Scatter(x=midpt_signal['timestamp'], y=midpt_signal['midpt_' + \"cb\"]/SCALE, mode='lines', name='Coinbase'))\n",
    "fig.add_trace(go.Scatter(x=midpt_signal['timestamp'], y=midpt_signal['midpt_' + \"kk\"]/SCALE, mode='lines', name='Kraken'))\n",
    "fig.show()"
   ]
  },
  {
   "cell_type": "code",
   "execution_count": 109,
   "metadata": {},
   "outputs": [],
   "source": [
    "def max_delayed_crosscorrelation(s1, s2):\n",
    "    correlation = signal.correlate(s1, s2, mode='full', method='auto')\n",
    "    \n",
    "    max_corr_index = np.argmax(correlation)\n",
    "    max_corr_value = correlation[max_corr_index]\n",
    "    \n",
    "    delay = max_corr_index - (len(s1) - 1)\n",
    "    \n",
    "    return max_corr_value, delay"
   ]
  },
  {
   "cell_type": "code",
   "execution_count": null,
   "metadata": {},
   "outputs": [],
   "source": [
    "print('asks', max_delayed_crosscorrelation(best_signal_ffilled['price_cb_asks'], best_signal_ffilled['price_kk_asks']))\n",
    "print('bids', max_delayed_crosscorrelation(best_signal_ffilled['price_cb_bids'], best_signal_ffilled['price_kk_bids']))\n",
    "print('midpt', max_delayed_crosscorrelation(midpt_signal['midpt_cb'], midpt_signal['midpt_kk']))"
   ]
  }
 ],
 "metadata": {
  "kernelspec": {
   "display_name": "Python 3",
   "language": "python",
   "name": "python3"
  },
  "language_info": {
   "codemirror_mode": {
    "name": "ipython",
    "version": 3
   },
   "file_extension": ".py",
   "mimetype": "text/x-python",
   "name": "python",
   "nbconvert_exporter": "python",
   "pygments_lexer": "ipython3",
   "version": "3.10.12"
  }
 },
 "nbformat": 4,
 "nbformat_minor": 2
}
