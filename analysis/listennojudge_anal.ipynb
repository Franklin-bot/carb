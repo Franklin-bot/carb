{
 "cells": [
  {
   "cell_type": "code",
   "execution_count": 7,
   "metadata": {},
   "outputs": [],
   "source": [
    "import pandas as pd\n",
    "import numpy as np\n",
    "from scipy import signal, stats\n",
    "from plotly import express as plx\n",
    "import json\n",
    "import csv\n",
    "\n",
    "from sklearn import linear_model"
   ]
  },
  {
   "cell_type": "code",
   "execution_count": 8,
   "metadata": {},
   "outputs": [],
   "source": [
    "# !. ../secrets.sh && cd '../build' && ./scout_exe"
   ]
  },
  {
   "cell_type": "code",
   "execution_count": 9,
   "metadata": {},
   "outputs": [],
   "source": [
    "COINBASE_TICKERS = '../data/coinbase_tickers.txt'\n",
    "COINBASE_BOOKS = '../data/coinbase_books.txt'\n",
    "\n",
    "KRAKEN_TICKERS = '../data/kraken_tickers.txt'\n",
    "KRAKEN_BOOKS = '../data/kraken_books.txt'\n",
    "\n",
    "\n",
    "DEPTH = 100\n",
    "SCALE = int(1e8)"
   ]
  },
  {
   "cell_type": "markdown",
   "metadata": {},
   "source": [
    "Explore the lag within the books as they update much faster than tickers do"
   ]
  },
  {
   "cell_type": "code",
   "execution_count": 10,
   "metadata": {},
   "outputs": [
    {
     "name": "stdout",
     "output_type": "stream",
     "text": [
      "size of cb_bids 76630\n",
      "size of cb_asks 88000\n",
      "size of kk_bids 99656\n",
      "size of kk_asks 93367\n"
     ]
    }
   ],
   "source": [
    "# coinbase\n",
    "\n",
    "cb_book = pd.read_csv(COINBASE_BOOKS, header=None)\n",
    "cb_book.columns = ['ticker', 'timestamp', 'type', 'price', 'quantity']\n",
    "cb_bids = cb_book[cb_book.type == 'bid'].drop('type',axis=1)\n",
    "cb_asks = cb_book[cb_book.type == 'offer'].drop('type',axis=1)\n",
    "\n",
    "# kraken\n",
    "\n",
    "kk_book = pd.read_csv(KRAKEN_BOOKS, header=None)\n",
    "kk_book.columns = ['ticker', 'timestamp', 'type', 'price', 'quantity']\n",
    "kk_book = kk_book[kk_book['timestamp'] != 0]\n",
    "kk_bids = kk_book[kk_book.type == 'bid'].drop('type',axis=1)\n",
    "kk_asks = kk_book[kk_book.type == 'ask'].drop('type',axis=1)\n",
    "\n",
    "\n",
    "print(\"size of cb_bids\", len(cb_bids))\n",
    "print(\"size of cb_asks\", len(cb_asks))\n",
    "print(\"size of kk_bids\", len(kk_bids))\n",
    "print(\"size of kk_asks\", len(kk_asks))\n",
    "\n",
    "signal_ind = {'cb_bids': 0, 'cb_asks': 1, 'kk_bids': 2, 'kk_asks': 3}\n",
    "books = [cb_bids, cb_asks, kk_bids, kk_asks]"
   ]
  },
  {
   "cell_type": "code",
   "execution_count": 5,
   "metadata": {},
   "outputs": [
    {
     "data": {
      "text/plain": [
       "[         ticker      timestamp     price       quantity\n",
       " 0     MATIC-USD  1735196588705  49500000     2920000000\n",
       " 1     MATIC-USD  1735196588705  49490000   101010000000\n",
       " 2     MATIC-USD  1735196588705  49480000   202090000000\n",
       " 3     MATIC-USD  1735196588705  49470000   188940000000\n",
       " 4     MATIC-USD  1735196588705  49460000   505380000000\n",
       " ...         ...            ...       ...            ...\n",
       " 6368  MATIC-USD  1735196749729  48170000   587690000000\n",
       " 6369  MATIC-USD  1735196749729  48150000              0\n",
       " 6371  MATIC-USD  1735196750429  48480000   100390000000\n",
       " 6372  MATIC-USD  1735196750429  48470000      290000000\n",
       " 6375  MATIC-USD  1735196750479  48180000  2071570000000\n",
       " \n",
       " [2000 rows x 4 columns],\n",
       "          ticker      timestamp      price       quantity\n",
       " 813   MATIC-USD  1735196588705   49510000   103450000000\n",
       " 814   MATIC-USD  1735196588705   49520000   906500000000\n",
       " 815   MATIC-USD  1735196588705   49530000   206519999999\n",
       " 816   MATIC-USD  1735196588705   49550000  1009170000000\n",
       " 817   MATIC-USD  1735196588705   49560000  1818959999999\n",
       " ...         ...            ...        ...            ...\n",
       " 2808  MATIC-USD  1735196588705  130280000   236980000000\n",
       " 2809  MATIC-USD  1735196588705  130370000     3829999999\n",
       " 2810  MATIC-USD  1735196588705  130450000     3100000000\n",
       " 2811  MATIC-USD  1735196588705  130519999  2000000000000\n",
       " 2812  MATIC-USD  1735196588705  130600000    16200000000\n",
       " \n",
       " [2000 rows x 4 columns],\n",
       "          ticker      timestamp     price      quantity\n",
       " 919   MATIC/USD  1735196591934  49410000  402222222221\n",
       " 920   MATIC/USD  1735196592655  46400000  808916690212\n",
       " 921   MATIC/USD  1735196592655  47520000  159804334448\n",
       " 922   MATIC/USD  1735196592656  46400000  565000000000\n",
       " 923   MATIC/USD  1735196592656  46900000  671451581712\n",
       " ...         ...            ...       ...           ...\n",
       " 4741  MATIC/USD  1735197026507  49690000             0\n",
       " 4748  MATIC/USD  1735197026585  49710000  506842070752\n",
       " 4752  MATIC/USD  1735197026632  49110000             0\n",
       " 4753  MATIC/USD  1735197026632  48910000   11768589365\n",
       " 4760  MATIC/USD  1735197026664  49580000  404962679039\n",
       " \n",
       " [2000 rows x 4 columns],\n",
       "          ticker      timestamp     price       quantity\n",
       " 932   MATIC/USD  1735196592848  53320000              0\n",
       " 933   MATIC/USD  1735196592848  68950000    91068081187\n",
       " 934   MATIC/USD  1735196593505  49540000  1024544681791\n",
       " 935   MATIC/USD  1735196593505  49540000   612585085832\n",
       " 938   MATIC/USD  1735196594491  53159999   147441304583\n",
       " ...         ...            ...       ...            ...\n",
       " 5144  MATIC/USD  1735197091644  49910000   108058386000\n",
       " 5147  MATIC/USD  1735197091647  49910000    96146393526\n",
       " 5148  MATIC/USD  1735197091647  49890000    11907329713\n",
       " 5151  MATIC/USD  1735197092630  49800000   598008032128\n",
       " 5152  MATIC/USD  1735197092630  49790000  2008508592457\n",
       " \n",
       " [2000 rows x 4 columns]]"
      ]
     },
     "execution_count": 5,
     "metadata": {},
     "output_type": "execute_result"
    }
   ],
   "source": [
    "# use to test code so it doesn't take forver to run\n",
    "for sig,ii in signal_ind.items():\n",
    "    books[ii] = books[ii].iloc[0:2000,:]\n",
    "books"
   ]
  },
  {
   "cell_type": "code",
   "execution_count": 11,
   "metadata": {},
   "outputs": [
    {
     "ename": "KeyboardInterrupt",
     "evalue": "",
     "output_type": "error",
     "traceback": [
      "\u001b[0;31m---------------------------------------------------------------------------\u001b[0m",
      "\u001b[0;31mKeyboardInterrupt\u001b[0m                         Traceback (most recent call last)",
      "Cell \u001b[0;32mIn[11], line 29\u001b[0m\n\u001b[1;32m     27\u001b[0m \u001b[39mif\u001b[39;00m(\u001b[39mnot\u001b[39;00m curbook[\u001b[39m'\u001b[39m\u001b[39mprice\u001b[39m\u001b[39m'\u001b[39m]\u001b[39m.\u001b[39mempty):\n\u001b[1;32m     28\u001b[0m     minbook \u001b[39m=\u001b[39m curbook\u001b[39m.\u001b[39miloc[\u001b[39m0\u001b[39m:DEPTH, :]\n\u001b[0;32m---> 29\u001b[0m     wavg_signal[ii]\u001b[39m.\u001b[39;49mloc[\u001b[39mlen\u001b[39;49m(wavg_signal[ii])] \u001b[39m=\u001b[39m [ts, \n\u001b[1;32m     30\u001b[0m                                                  (minbook[\u001b[39m'\u001b[39m\u001b[39mprice\u001b[39m\u001b[39m'\u001b[39m] \u001b[39m*\u001b[39m minbook[\u001b[39m'\u001b[39m\u001b[39mquantity\u001b[39m\u001b[39m'\u001b[39m])\u001b[39m.\u001b[39msum() \u001b[39m/\u001b[39m minbook[\u001b[39m'\u001b[39m\u001b[39mquantity\u001b[39m\u001b[39m'\u001b[39m]\u001b[39m.\u001b[39msum(), \n\u001b[1;32m     31\u001b[0m                                                  minbook[\u001b[39m'\u001b[39m\u001b[39mquantity\u001b[39m\u001b[39m'\u001b[39m]\u001b[39m.\u001b[39msum()]\n\u001b[1;32m     32\u001b[0m     best_signal[ii]\u001b[39m.\u001b[39mloc[\u001b[39mlen\u001b[39m(best_signal[ii])] \u001b[39m=\u001b[39m [ts, curbook[\u001b[39m'\u001b[39m\u001b[39mprice\u001b[39m\u001b[39m'\u001b[39m]\u001b[39m.\u001b[39miloc[\u001b[39m0\u001b[39m], curbook[\u001b[39m'\u001b[39m\u001b[39mquantity\u001b[39m\u001b[39m'\u001b[39m]\u001b[39m.\u001b[39miloc[\u001b[39m0\u001b[39m]]\n\u001b[1;32m     33\u001b[0m     price_signal[ii]\u001b[39m.\u001b[39mloc[\u001b[39mlen\u001b[39m(price_signal[ii])] \u001b[39m=\u001b[39m [ts, \n\u001b[1;32m     34\u001b[0m                                                    np\u001b[39m.\u001b[39mstd(minbook[\u001b[39m'\u001b[39m\u001b[39mprice\u001b[39m\u001b[39m'\u001b[39m]),\n\u001b[1;32m     35\u001b[0m                                                    minbook[\u001b[39m'\u001b[39m\u001b[39mprice\u001b[39m\u001b[39m'\u001b[39m]\u001b[39m.\u001b[39miloc[\u001b[39mint\u001b[39m(\u001b[39mlen\u001b[39m(minbook[\u001b[39m'\u001b[39m\u001b[39mprice\u001b[39m\u001b[39m'\u001b[39m])\u001b[39m/\u001b[39m\u001b[39m2\u001b[39m)],\n\u001b[1;32m     36\u001b[0m                                                    np\u001b[39m.\u001b[39mabs(np\u001b[39m.\u001b[39mmin(minbook[\u001b[39m'\u001b[39m\u001b[39mprice\u001b[39m\u001b[39m'\u001b[39m]) \u001b[39m-\u001b[39m np\u001b[39m.\u001b[39mmax(minbook[\u001b[39m'\u001b[39m\u001b[39mprice\u001b[39m\u001b[39m'\u001b[39m]))]\n",
      "File \u001b[0;32m~/carb/carb/lib/python3.13/site-packages/pandas/core/indexing.py:911\u001b[0m, in \u001b[0;36m_LocationIndexer.__setitem__\u001b[0;34m(self, key, value)\u001b[0m\n\u001b[1;32m    908\u001b[0m \u001b[39mself\u001b[39m\u001b[39m.\u001b[39m_has_valid_setitem_indexer(key)\n\u001b[1;32m    910\u001b[0m iloc \u001b[39m=\u001b[39m \u001b[39mself\u001b[39m \u001b[39mif\u001b[39;00m \u001b[39mself\u001b[39m\u001b[39m.\u001b[39mname \u001b[39m==\u001b[39m \u001b[39m\"\u001b[39m\u001b[39miloc\u001b[39m\u001b[39m\"\u001b[39m \u001b[39melse\u001b[39;00m \u001b[39mself\u001b[39m\u001b[39m.\u001b[39mobj\u001b[39m.\u001b[39miloc\n\u001b[0;32m--> 911\u001b[0m iloc\u001b[39m.\u001b[39;49m_setitem_with_indexer(indexer, value, \u001b[39mself\u001b[39;49m\u001b[39m.\u001b[39;49mname)\n",
      "File \u001b[0;32m~/carb/carb/lib/python3.13/site-packages/pandas/core/indexing.py:1932\u001b[0m, in \u001b[0;36m_iLocIndexer._setitem_with_indexer\u001b[0;34m(self, indexer, value, name)\u001b[0m\n\u001b[1;32m   1929\u001b[0m     indexer, missing \u001b[39m=\u001b[39m convert_missing_indexer(indexer)\n\u001b[1;32m   1931\u001b[0m     \u001b[39mif\u001b[39;00m missing:\n\u001b[0;32m-> 1932\u001b[0m         \u001b[39mself\u001b[39;49m\u001b[39m.\u001b[39;49m_setitem_with_indexer_missing(indexer, value)\n\u001b[1;32m   1933\u001b[0m         \u001b[39mreturn\u001b[39;00m\n\u001b[1;32m   1935\u001b[0m \u001b[39mif\u001b[39;00m name \u001b[39m==\u001b[39m \u001b[39m\"\u001b[39m\u001b[39mloc\u001b[39m\u001b[39m\"\u001b[39m:\n\u001b[1;32m   1936\u001b[0m     \u001b[39m# must come after setting of missing\u001b[39;00m\n",
      "File \u001b[0;32m~/carb/carb/lib/python3.13/site-packages/pandas/core/indexing.py:2328\u001b[0m, in \u001b[0;36m_iLocIndexer._setitem_with_indexer_missing\u001b[0;34m(self, indexer, value)\u001b[0m\n\u001b[1;32m   2326\u001b[0m     \u001b[39mself\u001b[39m\u001b[39m.\u001b[39mobj\u001b[39m.\u001b[39m_mgr \u001b[39m=\u001b[39m df\u001b[39m.\u001b[39m_mgr\n\u001b[1;32m   2327\u001b[0m \u001b[39melse\u001b[39;00m:\n\u001b[0;32m-> 2328\u001b[0m     \u001b[39mself\u001b[39m\u001b[39m.\u001b[39mobj\u001b[39m.\u001b[39m_mgr \u001b[39m=\u001b[39m \u001b[39mself\u001b[39;49m\u001b[39m.\u001b[39;49mobj\u001b[39m.\u001b[39;49m_append(value)\u001b[39m.\u001b[39m_mgr\n\u001b[1;32m   2329\u001b[0m \u001b[39mself\u001b[39m\u001b[39m.\u001b[39mobj\u001b[39m.\u001b[39m_maybe_update_cacher(clear\u001b[39m=\u001b[39m\u001b[39mTrue\u001b[39;00m)\n",
      "File \u001b[0;32m~/carb/carb/lib/python3.13/site-packages/pandas/core/frame.py:10551\u001b[0m, in \u001b[0;36mDataFrame._append\u001b[0;34m(self, other, ignore_index, verify_integrity, sort)\u001b[0m\n\u001b[1;32m  10540\u001b[0m     \u001b[39mraise\u001b[39;00m \u001b[39mTypeError\u001b[39;00m(\n\u001b[1;32m  10541\u001b[0m         \u001b[39m\"\u001b[39m\u001b[39mCan only append a Series if ignore_index=True \u001b[39m\u001b[39m\"\u001b[39m\n\u001b[1;32m  10542\u001b[0m         \u001b[39m\"\u001b[39m\u001b[39mor if the Series has a name\u001b[39m\u001b[39m\"\u001b[39m\n\u001b[1;32m  10543\u001b[0m     )\n\u001b[1;32m  10545\u001b[0m index \u001b[39m=\u001b[39m Index(\n\u001b[1;32m  10546\u001b[0m     [other\u001b[39m.\u001b[39mname],\n\u001b[1;32m  10547\u001b[0m     name\u001b[39m=\u001b[39m\u001b[39mself\u001b[39m\u001b[39m.\u001b[39mindex\u001b[39m.\u001b[39mnames\n\u001b[1;32m  10548\u001b[0m     \u001b[39mif\u001b[39;00m \u001b[39misinstance\u001b[39m(\u001b[39mself\u001b[39m\u001b[39m.\u001b[39mindex, MultiIndex)\n\u001b[1;32m  10549\u001b[0m     \u001b[39melse\u001b[39;00m \u001b[39mself\u001b[39m\u001b[39m.\u001b[39mindex\u001b[39m.\u001b[39mname,\n\u001b[1;32m  10550\u001b[0m )\n\u001b[0;32m> 10551\u001b[0m row_df \u001b[39m=\u001b[39m other\u001b[39m.\u001b[39;49mto_frame()\u001b[39m.\u001b[39;49mT\n\u001b[1;32m  10552\u001b[0m \u001b[39m# infer_objects is needed for\u001b[39;00m\n\u001b[1;32m  10553\u001b[0m \u001b[39m#  test_append_empty_frame_to_series_with_dateutil_tz\u001b[39;00m\n\u001b[1;32m  10554\u001b[0m other \u001b[39m=\u001b[39m row_df\u001b[39m.\u001b[39minfer_objects(copy\u001b[39m=\u001b[39m\u001b[39mFalse\u001b[39;00m)\u001b[39m.\u001b[39mrename_axis(\n\u001b[1;32m  10555\u001b[0m     index\u001b[39m.\u001b[39mnames, copy\u001b[39m=\u001b[39m\u001b[39mFalse\u001b[39;00m\n\u001b[1;32m  10556\u001b[0m )\n",
      "File \u001b[0;32m~/carb/carb/lib/python3.13/site-packages/pandas/core/frame.py:3978\u001b[0m, in \u001b[0;36mDataFrame.T\u001b[0;34m(self)\u001b[0m\n\u001b[1;32m   3951\u001b[0m \u001b[39m@property\u001b[39m\n\u001b[1;32m   3952\u001b[0m \u001b[39mdef\u001b[39;00m \u001b[39mT\u001b[39m(\u001b[39mself\u001b[39m) \u001b[39m-\u001b[39m\u001b[39m>\u001b[39m DataFrame:\n\u001b[1;32m   3953\u001b[0m \u001b[39m    \u001b[39m\u001b[39m\"\"\"\u001b[39;00m\n\u001b[1;32m   3954\u001b[0m \u001b[39m    The transpose of the DataFrame.\u001b[39;00m\n\u001b[1;32m   3955\u001b[0m \n\u001b[0;32m   (...)\u001b[0m\n\u001b[1;32m   3976\u001b[0m \u001b[39m    col2  3  4\u001b[39;00m\n\u001b[1;32m   3977\u001b[0m \u001b[39m    \"\"\"\u001b[39;00m\n\u001b[0;32m-> 3978\u001b[0m     \u001b[39mreturn\u001b[39;00m \u001b[39mself\u001b[39;49m\u001b[39m.\u001b[39;49mtranspose()\n",
      "File \u001b[0;32m~/carb/carb/lib/python3.13/site-packages/pandas/core/frame.py:3879\u001b[0m, in \u001b[0;36mDataFrame.transpose\u001b[0;34m(self, copy, *args)\u001b[0m\n\u001b[1;32m   3876\u001b[0m nv\u001b[39m.\u001b[39mvalidate_transpose(args, {})\n\u001b[1;32m   3877\u001b[0m \u001b[39m# construct the args\u001b[39;00m\n\u001b[0;32m-> 3879\u001b[0m dtypes \u001b[39m=\u001b[39m \u001b[39mlist\u001b[39m(\u001b[39mself\u001b[39;49m\u001b[39m.\u001b[39;49mdtypes)\n\u001b[1;32m   3881\u001b[0m \u001b[39mif\u001b[39;00m \u001b[39mself\u001b[39m\u001b[39m.\u001b[39m_can_fast_transpose:\n\u001b[1;32m   3882\u001b[0m     \u001b[39m# Note: tests pass without this, but this improves perf quite a bit.\u001b[39;00m\n\u001b[1;32m   3883\u001b[0m     new_vals \u001b[39m=\u001b[39m \u001b[39mself\u001b[39m\u001b[39m.\u001b[39m_values\u001b[39m.\u001b[39mT\n",
      "File \u001b[0;32m~/carb/carb/lib/python3.13/site-packages/pandas/core/generic.py:6461\u001b[0m, in \u001b[0;36mNDFrame.dtypes\u001b[0;34m(self)\u001b[0m\n\u001b[1;32m   6434\u001b[0m \u001b[39m\u001b[39m\u001b[39m\"\"\"\u001b[39;00m\n\u001b[1;32m   6435\u001b[0m \u001b[39mReturn the dtypes in the DataFrame.\u001b[39;00m\n\u001b[1;32m   6436\u001b[0m \n\u001b[0;32m   (...)\u001b[0m\n\u001b[1;32m   6458\u001b[0m \u001b[39mdtype: object\u001b[39;00m\n\u001b[1;32m   6459\u001b[0m \u001b[39m\"\"\"\u001b[39;00m\n\u001b[1;32m   6460\u001b[0m data \u001b[39m=\u001b[39m \u001b[39mself\u001b[39m\u001b[39m.\u001b[39m_mgr\u001b[39m.\u001b[39mget_dtypes()\n\u001b[0;32m-> 6461\u001b[0m \u001b[39mreturn\u001b[39;00m \u001b[39mself\u001b[39;49m\u001b[39m.\u001b[39;49m_constructor_sliced(data, index\u001b[39m=\u001b[39;49m\u001b[39mself\u001b[39;49m\u001b[39m.\u001b[39;49m_info_axis, dtype\u001b[39m=\u001b[39;49mnp\u001b[39m.\u001b[39;49mobject_)\n",
      "File \u001b[0;32m~/carb/carb/lib/python3.13/site-packages/pandas/core/series.py:594\u001b[0m, in \u001b[0;36mSeries.__init__\u001b[0;34m(self, data, index, dtype, name, copy, fastpath)\u001b[0m\n\u001b[1;32m    592\u001b[0m NDFrame\u001b[39m.\u001b[39m\u001b[39m__init__\u001b[39m(\u001b[39mself\u001b[39m, data)\n\u001b[1;32m    593\u001b[0m \u001b[39mself\u001b[39m\u001b[39m.\u001b[39mname \u001b[39m=\u001b[39m name\n\u001b[0;32m--> 594\u001b[0m \u001b[39mself\u001b[39;49m\u001b[39m.\u001b[39;49m_set_axis(\u001b[39m0\u001b[39;49m, index)\n\u001b[1;32m    596\u001b[0m \u001b[39mif\u001b[39;00m original_dtype \u001b[39mis\u001b[39;00m \u001b[39mNone\u001b[39;00m \u001b[39mand\u001b[39;00m is_pandas_object \u001b[39mand\u001b[39;00m data_dtype \u001b[39m==\u001b[39m np\u001b[39m.\u001b[39mobject_:\n\u001b[1;32m    597\u001b[0m     \u001b[39mif\u001b[39;00m \u001b[39mself\u001b[39m\u001b[39m.\u001b[39mdtype \u001b[39m!=\u001b[39m data_dtype:\n",
      "File \u001b[0;32m~/carb/carb/lib/python3.13/site-packages/pandas/core/generic.py:814\u001b[0m, in \u001b[0;36mNDFrame._set_axis\u001b[0;34m(self, axis, labels)\u001b[0m\n\u001b[1;32m    809\u001b[0m \u001b[39m\u001b[39m\u001b[39m\"\"\"\u001b[39;00m\n\u001b[1;32m    810\u001b[0m \u001b[39mThis is called from the cython code when we set the `index` attribute\u001b[39;00m\n\u001b[1;32m    811\u001b[0m \u001b[39mdirectly, e.g. `series.index = [1, 2, 3]`.\u001b[39;00m\n\u001b[1;32m    812\u001b[0m \u001b[39m\"\"\"\u001b[39;00m\n\u001b[1;32m    813\u001b[0m labels \u001b[39m=\u001b[39m ensure_index(labels)\n\u001b[0;32m--> 814\u001b[0m \u001b[39mself\u001b[39;49m\u001b[39m.\u001b[39;49m_mgr\u001b[39m.\u001b[39;49mset_axis(axis, labels)\n\u001b[1;32m    815\u001b[0m \u001b[39mself\u001b[39m\u001b[39m.\u001b[39m_clear_item_cache()\n",
      "File \u001b[0;32m~/carb/carb/lib/python3.13/site-packages/pandas/core/internals/managers.py:238\u001b[0m, in \u001b[0;36mBaseBlockManager.set_axis\u001b[0;34m(self, axis, new_labels)\u001b[0m\n\u001b[1;32m    236\u001b[0m \u001b[39mdef\u001b[39;00m \u001b[39mset_axis\u001b[39m(\u001b[39mself\u001b[39m, axis: AxisInt, new_labels: Index) \u001b[39m-\u001b[39m\u001b[39m>\u001b[39m \u001b[39mNone\u001b[39;00m:\n\u001b[1;32m    237\u001b[0m     \u001b[39m# Caller is responsible for ensuring we have an Index object.\u001b[39;00m\n\u001b[0;32m--> 238\u001b[0m     \u001b[39mself\u001b[39;49m\u001b[39m.\u001b[39;49m_validate_set_axis(axis, new_labels)\n\u001b[1;32m    239\u001b[0m     \u001b[39mself\u001b[39m\u001b[39m.\u001b[39maxes[axis] \u001b[39m=\u001b[39m new_labels\n",
      "File \u001b[0;32m~/carb/carb/lib/python3.13/site-packages/pandas/core/internals/base.py:89\u001b[0m, in \u001b[0;36mDataManager._validate_set_axis\u001b[0;34m(self, axis, new_labels)\u001b[0m\n\u001b[1;32m     86\u001b[0m \u001b[39m@final\u001b[39m\n\u001b[1;32m     87\u001b[0m \u001b[39mdef\u001b[39;00m \u001b[39m_validate_set_axis\u001b[39m(\u001b[39mself\u001b[39m, axis: AxisInt, new_labels: Index) \u001b[39m-\u001b[39m\u001b[39m>\u001b[39m \u001b[39mNone\u001b[39;00m:\n\u001b[1;32m     88\u001b[0m     \u001b[39m# Caller is responsible for ensuring we have an Index object.\u001b[39;00m\n\u001b[0;32m---> 89\u001b[0m     old_len \u001b[39m=\u001b[39m \u001b[39mlen\u001b[39;49m(\u001b[39mself\u001b[39;49m\u001b[39m.\u001b[39;49maxes[axis])\n\u001b[1;32m     90\u001b[0m     new_len \u001b[39m=\u001b[39m \u001b[39mlen\u001b[39m(new_labels)\n\u001b[1;32m     92\u001b[0m     \u001b[39mif\u001b[39;00m axis \u001b[39m==\u001b[39m \u001b[39m1\u001b[39m \u001b[39mand\u001b[39;00m \u001b[39mlen\u001b[39m(\u001b[39mself\u001b[39m\u001b[39m.\u001b[39mitems) \u001b[39m==\u001b[39m \u001b[39m0\u001b[39m:\n\u001b[1;32m     93\u001b[0m         \u001b[39m# If we are setting the index on a DataFrame with no columns,\u001b[39;00m\n\u001b[1;32m     94\u001b[0m         \u001b[39m#  it is OK to change the length.\u001b[39;00m\n",
      "File \u001b[0;32m~/carb/carb/lib/python3.13/site-packages/pandas/core/indexes/base.py:909\u001b[0m, in \u001b[0;36mIndex.__len__\u001b[0;34m(self)\u001b[0m\n\u001b[1;32m    899\u001b[0m     \u001b[39mreturn\u001b[39;00m {\n\u001b[1;32m    900\u001b[0m         c\n\u001b[1;32m    901\u001b[0m         \u001b[39mfor\u001b[39;00m c \u001b[39min\u001b[39;00m \u001b[39mself\u001b[39m\u001b[39m.\u001b[39munique(level\u001b[39m=\u001b[39m\u001b[39m0\u001b[39m)[: get_option(\u001b[39m\"\u001b[39m\u001b[39mdisplay.max_dir_items\u001b[39m\u001b[39m\"\u001b[39m)]\n\u001b[1;32m    902\u001b[0m         \u001b[39mif\u001b[39;00m \u001b[39misinstance\u001b[39m(c, \u001b[39mstr\u001b[39m) \u001b[39mand\u001b[39;00m c\u001b[39m.\u001b[39misidentifier()\n\u001b[1;32m    903\u001b[0m     }\n\u001b[1;32m    905\u001b[0m \u001b[39m# --------------------------------------------------------------------\u001b[39;00m\n\u001b[1;32m    906\u001b[0m \u001b[39m# Array-Like Methods\u001b[39;00m\n\u001b[1;32m    907\u001b[0m \n\u001b[1;32m    908\u001b[0m \u001b[39m# ndarray compat\u001b[39;00m\n\u001b[0;32m--> 909\u001b[0m \u001b[39mdef\u001b[39;00m \u001b[39m__len__\u001b[39m(\u001b[39mself\u001b[39m) \u001b[39m-\u001b[39m\u001b[39m>\u001b[39m \u001b[39mint\u001b[39m:\n\u001b[1;32m    910\u001b[0m \u001b[39m    \u001b[39m\u001b[39m\"\"\"\u001b[39;00m\n\u001b[1;32m    911\u001b[0m \u001b[39m    Return the length of the Index.\u001b[39;00m\n\u001b[1;32m    912\u001b[0m \u001b[39m    \"\"\"\u001b[39;00m\n\u001b[1;32m    913\u001b[0m     \u001b[39mreturn\u001b[39;00m \u001b[39mlen\u001b[39m(\u001b[39mself\u001b[39m\u001b[39m.\u001b[39m_data)\n",
      "\u001b[0;31mKeyboardInterrupt\u001b[0m: "
     ]
    }
   ],
   "source": [
    "best_signal = [pd.DataFrame(columns=['timestamp', 'price', 'quantity']) for x in signal_ind.keys()]\n",
    "wavg_signal = [pd.DataFrame(columns=['timestamp', 'price', 'total_volume']) for x in signal_ind.keys()]\n",
    "price_signal = [pd.DataFrame(columns=['timestamp', 'std', 'median', 'spread']) for x in signal_ind.keys()]\n",
    "\n",
    "for sig, ii in signal_ind.items():\n",
    "    is_bid = ii % 2 == 0\n",
    "    allts = np.sort(books[ii]['timestamp'].unique())\n",
    "    firstts = allts[0]\n",
    "    at_firstts = books[ii]['timestamp'] == firstts\n",
    "\n",
    "    curbook = books[ii][at_firstts].copy()\n",
    "    # complete_book = pd.DataFrame()\n",
    "    # this can probs easily be solved by using a groupby, im so dumb\n",
    "    for ts in allts:\n",
    "        at_ts = books[ii]['timestamp'] == ts\n",
    "        sig_at_ts = books[ii][at_ts]\n",
    "\n",
    "        merged = pd.merge(sig_at_ts[['price', 'quantity']], curbook, on='price', how='left', suffixes=('_old', ''))\n",
    "        merged['quantity']=merged['quantity'].fillna(merged['quantity_old'])\n",
    "        curbook = merged.drop('quantity_old', axis=1)\n",
    "        curbook['timestamp'] = ts\n",
    "        curbook = curbook[curbook['quantity'] != 0]\n",
    "        curbook = curbook.sort_values('price', ascending=(not is_bid))\n",
    "        \n",
    "        # complete_book = pd.concat([complete_book,curbook.iloc[:DEPTH]])\n",
    "\n",
    "        if(not curbook['price'].empty):\n",
    "            minbook = curbook.iloc[0:DEPTH, :]\n",
    "            wavg_signal[ii].loc[len(wavg_signal[ii])] = [ts, \n",
    "                                                         (minbook['price'] * minbook['quantity']).sum() / minbook['quantity'].sum(), \n",
    "                                                         minbook['quantity'].sum()]\n",
    "            best_signal[ii].loc[len(best_signal[ii])] = [ts, curbook['price'].iloc[0], curbook['quantity'].iloc[0]]\n",
    "            price_signal[ii].loc[len(price_signal[ii])] = [ts, \n",
    "                                                           np.std(minbook['price']),\n",
    "                                                           minbook['price'].iloc[int(len(minbook['price'])/2)],\n",
    "                                                           np.abs(np.min(minbook['price']) - np.max(minbook['price']))]\n",
    "\n",
    "\n",
    "    wavg_signal[ii] = wavg_signal[ii][wavg_signal[ii]['price'] > 0]\n",
    "# best_signal\n",
    "# wavg_signal\n",
    "# price_signal"
   ]
  },
  {
   "cell_type": "code",
   "execution_count": 51,
   "metadata": {},
   "outputs": [],
   "source": [
    "def ffill_df(dfs, sigkeys):\n",
    "    ffilled_dfs = []\n",
    "    for sig,df in zip(sigkeys,dfs):\n",
    "        df.index = pd.to_datetime(df['timestamp'], unit='ms')\n",
    "        df = df.drop(['timestamp'], axis=1)\n",
    "        df.index.name = 'date'\n",
    "        df = df.resample('1ms').ffill() \n",
    "        ffilled_dfs.append(df)\n",
    "\n",
    "\n",
    "    i = 0\n",
    "    ffilled = ffilled_dfs[i].rename(columns=lambda col: col + \"_\" + sigkeys[i] if col != \"date\" else col)\n",
    "    i += 1\n",
    "    while i < len(sigkeys):\n",
    "        current_df = ffilled_dfs[i].rename(columns=lambda col: col + \"_\" + sigkeys[i] if col != \"date\" else col)\n",
    "        ffilled = pd.merge(\n",
    "            ffilled,\n",
    "            current_df,\n",
    "            on='date',\n",
    "            how='inner'\n",
    "        )\n",
    "        i += 1\n",
    "\n",
    "    ffilled['timestamp'] = ffilled.index.view('int64') / 10**9\n",
    "    ffilled['timestamp'] = ffilled['timestamp'] - np.min(ffilled['timestamp'])\n",
    "    return ffilled\n",
    "\n",
    "\n",
    "best_signal_ffilled = ffill_df(best_signal, list(signal_ind.keys()))\n",
    "wavg_signal_ffilled = ffill_df(wavg_signal, list(signal_ind.keys()))\n",
    "price_signal_ffilled = ffill_df(price_signal, list(signal_ind.keys()))\n",
    "\n",
    "best_signal_ffilled.to_csv('best_signal_ffilled.csv')\n",
    "wavg_signal_ffilled.to_csv('wavg_signal_ffilled.csv')\n",
    "price_signal_ffilled.to_csv('price_signal_ffilled.csv')"
   ]
  },
  {
   "cell_type": "code",
   "execution_count": null,
   "metadata": {},
   "outputs": [],
   "source": [
    "best_signal_ffilled = pd.read_csv('best_signal_ffilled.csv')\n",
    "wavg_signal_ffilled = pd.read_csv('wavg_signal_ffilled.csv')\n",
    "price_signal_ffilled = pd.read_csv('price_signal_ffilled.csv')"
   ]
  },
  {
   "cell_type": "code",
   "execution_count": null,
   "metadata": {},
   "outputs": [],
   "source": [
    "## TODO: EVERYTHING ABOVE THIS NEEDS TO BE OPTIMIZED CUZ RN IT CAN'T RUN!!!"
   ]
  },
  {
   "cell_type": "markdown",
   "metadata": {},
   "source": [
    "# TODO: indicators\n",
    "\n",
    " best-ask to best-bid price spread\n",
    " ask-bid imbalance (ask_vol - bid_vol) / (ask_vol + bid_vol)\n",
    "\n",
    "##### for MA, do for both best (best_signal_ffilled) and weighted avg (wavg_signal_ffileed)\n",
    "- MA (3 ms)\n",
    "- MA (10 ms)\n",
    "- MA (100 ms)\n",
    "- MA (1000 ms)\n",
    "- EMA (alpha = 0.01)\n",
    "- EMA (alpha = 0.05)\n",
    "- EMA (alpha = 0.10)\n",
    "- EMA (alpha = 0.33)\n",
    "- EMA (alpha = 0.67)\n",
    "- EMA (alpha = 0.90)\n",
    "\n",
    "- kalman filter\n",
    "\n",
    "*also I have a few ideas for slope interpolation of weighted avg to patch in gaps in noisy best_price, but we will ignore for now*"
   ]
  },
  {
   "cell_type": "markdown",
   "metadata": {},
   "source": [
    "# Model pseudo code\n",
    "\n",
    "next, code up logistic regression to tell us if we should trade or not\n",
    "`LOGISTIC(indicators) => y(t)`\n",
    "or `LINEAR(indicators) => x(t), calculate z scores => y(t)`\n",
    "\n",
    "    x(T) = statistically segnificant signals at T timestep(forward filled)\n",
    "    x(T) is statsitically segniciant at T if X(T) > MEAN + Z*STD  \n",
    "    where MEAN & STD come from X(T-1), X(T-2), ... X(T-N)\n",
    "\n",
    "Y = `COINBASE_BEST_ASK(T+(LAG))` < the `KRAKEN_BEST_BID within (T+(LAG), T+(LAG)+(HOLDTIME)]`\n",
    "\n",
    "then optimize `HOLDTIME` and `Z` & `N` with the objective function (i'm thinking gridsearch to keep it simple)\n",
    "\n",
    "    OBJ = 0\n",
    "    WE_TRADE = Y(T) >= 0.5\n",
    "    if(WE_TRADE): \n",
    "      check if ask price @ T+LAG > bid price T1 @ T+LAG to T+LAG+HOLDTIME:\n",
    "          if so, (OBJ += (ASK_PRICE(T+LAG) - BID_PRICE(T+LAG+T1))\n",
    "          if not, (OBJ += ASK_PRICE(T+LAG) - BID_PRICE(T+LAG+T1))\n",
    "\n",
    "    MAX OBJ W.R.T `HOLDTIME` and `Z` & `N`\n",
    "\n",
    "\n"
   ]
  },
  {
   "cell_type": "code",
   "execution_count": null,
   "metadata": {},
   "outputs": [],
   "source": [
    "# ID-ing signiciant signals, ideally use logistical regression for this part\n",
    "window_size = 30  # law of large numbers\n",
    "# TODO, not price, its like cb_ask_price\n",
    "X1 = wavg_signal_ffilled['price'].rolling(window_size)\n",
    "mu = X1.mean(skipna=True)\n",
    "std = X1.std(skipna=True)\n",
    "z_th = 1\n",
    "\n",
    "zscores = X1.apply(lambda x: stats.zscore(x)[-1] if len(x) == window_size else np.nan)\n",
    "\n",
    "sig = zscores > z_th # peaks\n",
    "peaks = wavg_signal_ffilled['price'][sig]\n"
   ]
  },
  {
   "cell_type": "code",
   "execution_count": null,
   "metadata": {},
   "outputs": [],
   "source": [
    "\n",
    "HOLDTIME = 100 # 100 ms\n",
    "LAG = 100 # 100 ms\n",
    "\n",
    "X = peaks.iloc[:-(HOLDTIME+LAG)]\n",
    "peakprice = best_signal_ffilled['kkbidprice'].rolling(HOLDTIME + LAG, min_periods=(HOLDTIME+LAG)).dropna().max()\n",
    "finalprice = best_signal_ffilled['kkbidprice'].iloc[HOLDTIME+LAG:]\n",
    "\n",
    "trade_ratio = (peakprice > finalprice).sum() / len(peakprice)\n",
    "trade_ratio\n"
   ]
  },
  {
   "cell_type": "markdown",
   "metadata": {},
   "source": [
    "Make the following two cells into a method with parameters `HOLDTIME` and "
   ]
  },
  {
   "cell_type": "code",
   "execution_count": null,
   "metadata": {},
   "outputs": [],
   "source": [
    "from matplotlib import pyplot as plt\n",
    "plt.plot(best_signal_ffilled['price_cb_asks'])\n",
    "plt.plot(best_signal_ffilled['price_cb_bids'])\n",
    "plt.ylim(0,1)"
   ]
  },
  {
   "cell_type": "code",
   "execution_count": null,
   "metadata": {},
   "outputs": [],
   "source": [
    "# plot ask lag\n",
    "import plotly.graph_objects as go\n",
    "fig = go.Figure()\n",
    "fig.add_trace(go.Scatter(x=best_signal_ffilled['timestamp'], y=best_signal_ffilled['price_' + \"cb\" + \"_asks\"]/SCALE, mode='lines', name='Coinbase'))\n",
    "fig.add_trace(go.Scatter(x=best_signal_ffilled['timestamp'], y=best_signal_ffilled['price_' + \"kk\" + \"_asks\"]/SCALE, mode='lines', name='Kraken'))\n",
    "fig.show()"
   ]
  },
  {
   "cell_type": "code",
   "execution_count": null,
   "metadata": {},
   "outputs": [],
   "source": [
    "# plot bids\n",
    "import plotly.graph_objects as go\n",
    "fig = go.Figure()\n",
    "fig.add_trace(go.Scatter(x=best_signal_ffilled['timestamp'], y=best_signal_ffilled['price_' + \"cb\" + \"_bids\"]/SCALE, mode='lines', name='Coinbase'))\n",
    "fig.add_trace(go.Scatter(x=best_signal_ffilled['timestamp'], y=best_signal_ffilled['price_' + \"kk\" + \"_bids\"]/SCALE, mode='lines', name='Kraken'))\n",
    "fig.show()"
   ]
  },
  {
   "cell_type": "code",
   "execution_count": null,
   "metadata": {},
   "outputs": [],
   "source": [
    "\n",
    "import plotly.graph_objects as go\n",
    "fig = go.Figure()\n",
    "fig.add_trace(go.Scatter(x=midpt_signal['timestamp'], y=midpt_signal['midpt_' + \"cb\"]/SCALE, mode='lines', name='Coinbase'))\n",
    "fig.add_trace(go.Scatter(x=midpt_signal['timestamp'], y=midpt_signal['midpt_' + \"kk\"]/SCALE, mode='lines', name='Kraken'))\n",
    "fig.show()"
   ]
  },
  {
   "cell_type": "code",
   "execution_count": 109,
   "metadata": {},
   "outputs": [],
   "source": [
    "def max_delayed_crosscorrelation(s1, s2):\n",
    "    correlation = signal.correlate(s1, s2, mode='full', method='auto')\n",
    "    \n",
    "    max_corr_index = np.argmax(correlation)\n",
    "    max_corr_value = correlation[max_corr_index]\n",
    "    \n",
    "    delay = max_corr_index - (len(s1) - 1)\n",
    "    \n",
    "    return max_corr_value, delay"
   ]
  },
  {
   "cell_type": "code",
   "execution_count": null,
   "metadata": {},
   "outputs": [],
   "source": [
    "print('asks', max_delayed_crosscorrelation(best_signal_ffilled['price_cb_asks'], best_signal_ffilled['price_kk_asks']))\n",
    "print('bids', max_delayed_crosscorrelation(best_signal_ffilled['price_cb_bids'], best_signal_ffilled['price_kk_bids']))\n",
    "print('midpt', max_delayed_crosscorrelation(midpt_signal['midpt_cb'], midpt_signal['midpt_kk']))"
   ]
  }
 ],
 "metadata": {
  "kernelspec": {
   "display_name": "Python 3",
   "language": "python",
   "name": "python3"
  },
  "language_info": {
   "codemirror_mode": {
    "name": "ipython",
    "version": 3
   },
   "file_extension": ".py",
   "mimetype": "text/x-python",
   "name": "python",
   "nbconvert_exporter": "python",
   "pygments_lexer": "ipython3",
   "version": "3.13.1"
  }
 },
 "nbformat": 4,
 "nbformat_minor": 2
}
